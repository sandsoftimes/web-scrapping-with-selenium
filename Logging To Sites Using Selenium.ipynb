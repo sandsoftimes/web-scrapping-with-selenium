{
 "cells": [
  {
   "cell_type": "code",
   "execution_count": null,
   "id": "c3372029",
   "metadata": {},
   "outputs": [],
   "source": [
    "from selenium import webdriver\n",
    "import time\n",
    "\n",
    "website='https://twitter.com/?lang=en'\n",
    "driver=webdriver.Chrome()\n",
    "driver.maximize_window()\n",
    "\n",
    "login=driver.find_element('xpath','//a[@href='/login']')\n",
    "login.click()\n",
    "\n",
    "time.sleep(2)\n",
    "\n",
    "login_box=driver.find_element('xpath',\"//form[@actions='/sessions']\")\n",
    "\n",
    "username=login_box.find('xpath',)\n",
    "\n",
    "//input[@name='text']"
   ]
  },
  {
   "cell_type": "code",
   "execution_count": null,
   "id": "2b56352b",
   "metadata": {},
   "outputs": [],
   "source": [
    "from selenium import webdriver\n",
    "import time\n",
    "import os\n",
    "\n",
    "web = \"https://twitter.com/i/flow/login\"\n",
    "# path = \"/Users/frankandrade/Downloads/chromedriver\"\n",
    "driver = webdriver.Chrome()\n",
    "driver.get(web)\n",
    "driver.maximize_window()\n",
    "\n",
    "# wait of 6 seconds to let the page load the content\n",
    "time.sleep(6)  # this time might vary depending on your computer\n",
    "\n",
    "# locating username and password inputs and sending text to the inputs\n",
    "# username\n",
    "username = driver.find_element('xpath','//input[@autocomplete =\"username\"]')\n",
    "username.send_keys(\"janeebee1092@gmail.com\")  # Write Email Here\n",
    "# username.send_keys(os.environ.get(\"TWITTER_USER\"))\n",
    "\n",
    "# Clicking on \"Next\" button\n",
    "next_button = driver.find_element('xpath','//div[@role=\"button\"]//span[text()=\"Next\"]')\n",
    "next_button.click()\n",
    "\n",
    "# wait of 2 seconds after clicking button\n",
    "time.sleep(2)\n",
    "\n",
    "# password\n",
    "password = driver.find_element('xpath','//input[@autocomplete =\"current-password\"]')\n",
    "password.send_keys(\"90as()nm\")  # Write Password Here\n",
    "# password.send_keys(os.environ.get(\"TWITTER_PASS\"))\n",
    "\n",
    "# locating login button and then clicking on it\n",
    "login_button = driver.find_element('xpath','//div[@role=\"button\"]//span[text()=\"Log in\"]')\n",
    "login_button.click()\n",
    "\n",
    "\n",
    "# closing driver\n",
    "# driver.quit()"
   ]
  },
  {
   "cell_type": "code",
   "execution_count": null,
   "id": "4a9e251f",
   "metadata": {},
   "outputs": [],
   "source": []
  }
 ],
 "metadata": {
  "kernelspec": {
   "display_name": "Python 3 (ipykernel)",
   "language": "python",
   "name": "python3"
  },
  "language_info": {
   "codemirror_mode": {
    "name": "ipython",
    "version": 3
   },
   "file_extension": ".py",
   "mimetype": "text/x-python",
   "name": "python",
   "nbconvert_exporter": "python",
   "pygments_lexer": "ipython3",
   "version": "3.11.4"
  }
 },
 "nbformat": 4,
 "nbformat_minor": 5
}
