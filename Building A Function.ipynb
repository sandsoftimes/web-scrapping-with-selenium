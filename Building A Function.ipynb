{
 "cells": [
  {
   "cell_type": "code",
   "execution_count": 2,
   "id": "ae9a2b7f",
   "metadata": {},
   "outputs": [
    {
     "ename": "TimeoutException",
     "evalue": "Message: \n",
     "output_type": "error",
     "traceback": [
      "\u001b[0;31m---------------------------------------------------------------------------\u001b[0m",
      "\u001b[0;31mTimeoutException\u001b[0m                          Traceback (most recent call last)",
      "Cell \u001b[0;32mIn[2], line 29\u001b[0m\n\u001b[1;32m     26\u001b[0m text_data \u001b[38;5;241m=\u001b[39m []\n\u001b[1;32m     28\u001b[0m \u001b[38;5;66;03m# Getting all the tweet cards/boxes listed in a single page\u001b[39;00m\n\u001b[0;32m---> 29\u001b[0m tweets \u001b[38;5;241m=\u001b[39m WebDriverWait(driver, \u001b[38;5;241m5\u001b[39m)\u001b[38;5;241m.\u001b[39muntil(EC\u001b[38;5;241m.\u001b[39mpresence_of_all_elements_located((By\u001b[38;5;241m.\u001b[39mXPATH, \u001b[38;5;124m\"\u001b[39m\u001b[38;5;124m//article[@role=\u001b[39m\u001b[38;5;124m'\u001b[39m\u001b[38;5;124marticle\u001b[39m\u001b[38;5;124m'\u001b[39m\u001b[38;5;124m]\u001b[39m\u001b[38;5;124m\"\u001b[39m)))\n\u001b[1;32m     30\u001b[0m \u001b[38;5;66;03m# Looping through the tweets list\u001b[39;00m\n\u001b[1;32m     31\u001b[0m \u001b[38;5;28;01mfor\u001b[39;00m tweet \u001b[38;5;129;01min\u001b[39;00m tweets:\n",
      "File \u001b[0;32m~/anaconda3/lib/python3.11/site-packages/selenium/webdriver/support/wait.py:95\u001b[0m, in \u001b[0;36mWebDriverWait.until\u001b[0;34m(self, method, message)\u001b[0m\n\u001b[1;32m     93\u001b[0m     \u001b[38;5;28;01mif\u001b[39;00m time\u001b[38;5;241m.\u001b[39mmonotonic() \u001b[38;5;241m>\u001b[39m end_time:\n\u001b[1;32m     94\u001b[0m         \u001b[38;5;28;01mbreak\u001b[39;00m\n\u001b[0;32m---> 95\u001b[0m \u001b[38;5;28;01mraise\u001b[39;00m TimeoutException(message, screen, stacktrace)\n",
      "\u001b[0;31mTimeoutException\u001b[0m: Message: \n"
     ]
    }
   ],
   "source": [
    "from selenium import webdriver\n",
    "from selenium.webdriver.common.by import By\n",
    "from selenium.webdriver.support.ui import WebDriverWait\n",
    "from selenium.webdriver.support import expected_conditions as EC\n",
    "import pandas as pd\n",
    "\n",
    "web = \"https://twitter.com/search?q=python&src=typed_query\"\n",
    "driver = webdriver.Chrome()\n",
    "driver.get(web)\n",
    "driver.maximize_window()\n",
    "\n",
    "\n",
    "def get_tweet(element):\n",
    "    \"\"\"This function scrapes data of tweets. It returns a list with 2 elements; username and text\"\"\"\n",
    "    try:\n",
    "        user = element.find_element('xpath',\".//span[contains(text(), '@')]\").text  # there are more than 1 but we pick the first\n",
    "        text = element.find_element('xpath',\".//div[@lang]\").text\n",
    "        tweets_data = [user, text]\n",
    "    except:\n",
    "        tweets_data = ['user', 'text']\n",
    "    return tweets_data\n",
    "\n",
    "\n",
    "# Initializing storage\n",
    "user_data = []\n",
    "text_data = []\n",
    "\n",
    "# Getting all the tweet cards/boxes listed in a single page\n",
    "tweets = WebDriverWait(driver, 5).until(EC.presence_of_all_elements_located((By.XPATH, \"//article[@role='article']\")))\n",
    "# Looping through the tweets list\n",
    "for tweet in tweets:\n",
    "    tweet_list = get_tweet(tweet)  # calling the function get_tweet to scrape data of the tweets list\n",
    "    user_data.append(tweet_list[0])  # appending the first element of tweet_list (user)\n",
    "    text_data.append(\" \".join(tweet_list[1].split()))  # appending the second element of tweet_list (text)\n",
    "\n",
    "driver.quit()\n",
    "# Storing the data into a DataFrame and exporting to a csv file\n",
    "df_tweets = pd.DataFrame({'user': user_data, 'text': text_data})\n",
    "df_tweets.to_csv('tweets.csv', index=False)\n",
    "print(df_tweets)"
   ]
  }
 ],
 "metadata": {
  "kernelspec": {
   "display_name": "Python 3 (ipykernel)",
   "language": "python",
   "name": "python3"
  },
  "language_info": {
   "codemirror_mode": {
    "name": "ipython",
    "version": 3
   },
   "file_extension": ".py",
   "mimetype": "text/x-python",
   "name": "python",
   "nbconvert_exporter": "python",
   "pygments_lexer": "ipython3",
   "version": "3.11.4"
  }
 },
 "nbformat": 4,
 "nbformat_minor": 5
}
