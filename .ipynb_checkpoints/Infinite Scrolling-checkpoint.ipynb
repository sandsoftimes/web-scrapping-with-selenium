{
 "cells": [
  {
   "cell_type": "code",
   "execution_count": 4,
   "id": "19535988",
   "metadata": {},
   "outputs": [],
   "source": [
    "from selenium import webdriver\n",
    "from selenium.webdriver.common.by import By\n",
    "from selenium.webdriver.support.ui import WebDriverWait\n",
    "from selenium.webdriver.support import expected_conditions as EC\n",
    "import pandas as pd\n",
    "import time\n",
    "\n",
    "web = \"https://twitter.com/HulkHogan/status/922554774633009153\"\n",
    "driver = webdriver.Chrome()\n",
    "driver.get(web)\n",
    "driver.maximize_window()\n",
    "\n",
    "last_height=driver.execute_script(\"return document.body.scrollHeight\")\n",
    "while True:\n",
    "    driver.execute_script(\"window.scrollTo(0,document.body.scrollHeight)\") # this script will make it sure that the script will run through out the height of the page\n",
    "    time.sleep(5) # to sleep \n",
    "    new_height=driver.execute_script(\"return document.body.scrollHeight\")\n",
    "    if new_height==last_height:\n",
    "        break\n",
    "    else:\n",
    "        last_height=new_height\n",
    "driver.quit()\n"
   ]
  }
 ],
 "metadata": {
  "kernelspec": {
   "display_name": "Python 3 (ipykernel)",
   "language": "python",
   "name": "python3"
  },
  "language_info": {
   "codemirror_mode": {
    "name": "ipython",
    "version": 3
   },
   "file_extension": ".py",
   "mimetype": "text/x-python",
   "name": "python",
   "nbconvert_exporter": "python",
   "pygments_lexer": "ipython3",
   "version": "3.11.4"
  }
 },
 "nbformat": 4,
 "nbformat_minor": 5
}
